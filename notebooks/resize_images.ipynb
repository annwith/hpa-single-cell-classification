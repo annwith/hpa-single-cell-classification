{
 "cells": [
  {
   "cell_type": "code",
   "execution_count": 3,
   "metadata": {},
   "outputs": [
    {
     "name": "stdout",
     "output_type": "stream",
     "text": [
      "Formato da imagem: PNG\n",
      "Modo da imagem: L\n",
      "Imagem em escala de cinza: True\n",
      "Tipo de dado dos pixels: uint8\n",
      "Valores armazenados como inteiros: True\n",
      "Valores armazenados como floats: False\n"
     ]
    }
   ],
   "source": [
    "from PIL import Image\n",
    "import numpy as np\n",
    "\n",
    "def get_image_info(image_path):\n",
    "    try:\n",
    "        with Image.open(image_path) as img:\n",
    "            # Verificar se a imagem está em escala de cinza\n",
    "            is_grayscale = img.mode == \"L\"\n",
    "\n",
    "            # Converter a imagem para um array NumPy para verificar o tipo de dado\n",
    "            img_array = np.array(img)\n",
    "            dtype = img_array.dtype\n",
    "\n",
    "            # Verificar se os valores são inteiros ou floats\n",
    "            is_integer = np.issubdtype(dtype, np.integer)\n",
    "            is_float = np.issubdtype(dtype, np.floating)\n",
    "\n",
    "            return {\n",
    "                \"format\": img.format,\n",
    "                \"mode\": img.mode,\n",
    "                \"is_grayscale\": is_grayscale,\n",
    "                \"dtype\": dtype,\n",
    "                \"is_integer\": is_integer,\n",
    "                \"is_float\": is_float\n",
    "            }\n",
    "\n",
    "    except Exception as e:\n",
    "        print(f\"Erro ao abrir a imagem {image_path}: {e}\")\n",
    "        return None\n",
    "\n",
    "# Exemplo de uso\n",
    "image_path = '/mnt/ssd/hpa-single-cell-image-classification/train/0a00aab2-bbbb-11e8-b2ba-ac1f6b6435d0_blue.png'\n",
    "image_info = get_image_info(image_path)\n",
    "\n",
    "if image_info:\n",
    "    print(f\"Formato da imagem: {image_info['format']}\")\n",
    "    print(f\"Modo da imagem: {image_info['mode']}\")\n",
    "    print(f\"Imagem em escala de cinza: {image_info['is_grayscale']}\")\n",
    "    print(f\"Tipo de dado dos pixels: {image_info['dtype']}\")\n",
    "    print(f\"Valores armazenados como inteiros: {image_info['is_integer']}\")\n",
    "    print(f\"Valores armazenados como floats: {image_info['is_float']}\")\n",
    "else:\n",
    "    print(\"Não foi possível determinar as informações da imagem.\")\n"
   ]
  },
  {
   "cell_type": "code",
   "execution_count": 5,
   "metadata": {},
   "outputs": [
    {
     "name": "stderr",
     "output_type": "stream",
     "text": [
      "Redimensionando imagens:   0%|          | 1/87224 [1:30:13<131169:13:05, 5413.81s/it]"
     ]
    },
    {
     "name": "stdout",
     "output_type": "stream",
     "text": [
      "Redimensionamento completo!\n"
     ]
    },
    {
     "name": "stderr",
     "output_type": "stream",
     "text": [
      "\n"
     ]
    }
   ],
   "source": [
    "import os\n",
    "from PIL import Image\n",
    "from tqdm import tqdm  # Biblioteca para mostrar a barra de progresso\n",
    "\n",
    "# Diretório do dataset\n",
    "dataset_dir = '/mnt/ssd/hpa-single-cell-image-classification/train'\n",
    "output_dir = '/mnt/ssd/hpa-single-cell-image-classification/resized_train'\n",
    "\n",
    "# Função para redimensionar uma imagem grayscale com pouca perda de qualidade\n",
    "def resize_image(image_path, output_size=(512, 512)):\n",
    "    try:\n",
    "        with Image.open(image_path) as img:\n",
    "            img = img.convert(\"L\")  # Garantir que a imagem esteja em grayscale\n",
    "            img = img.resize(output_size, Image.LANCZOS)  # LANCZOS é um bom algoritmo para alta qualidade\n",
    "            return img\n",
    "    except Exception as e:\n",
    "        print(f\"Erro ao processar a imagem {image_path}: {e}\")\n",
    "        return None\n",
    "\n",
    "# Criar diretório de saída se não existir\n",
    "if not os.path.exists(output_dir):\n",
    "    os.makedirs(output_dir)\n",
    "\n",
    "# Contar o número total de arquivos para a barra de progresso\n",
    "total_files = sum([len(files) for _, _, files in os.walk(dataset_dir)])\n",
    "\n",
    "# Loop através de todas as imagens no diretório com a barra de progresso\n",
    "for subdir, _, files in tqdm(os.walk(dataset_dir), total=total_files, desc=\"Redimensionando imagens\"):\n",
    "    for file in files:\n",
    "        image_path = os.path.join(subdir, file)\n",
    "        resized_image = resize_image(image_path)\n",
    "\n",
    "        if resized_image:\n",
    "            # Definir o caminho de saída mantendo a estrutura do diretório\n",
    "            relative_path = os.path.relpath(image_path, dataset_dir)\n",
    "            output_path = os.path.join(output_dir, relative_path)\n",
    "            output_subdir = os.path.dirname(output_path)\n",
    "\n",
    "            if not os.path.exists(output_subdir):\n",
    "                os.makedirs(output_subdir)\n",
    "\n",
    "            # Salvar a imagem redimensionada\n",
    "            resized_image.save(output_path)\n",
    "\n",
    "print(\"Redimensionamento completo!\")\n"
   ]
  },
  {
   "cell_type": "code",
   "execution_count": null,
   "metadata": {},
   "outputs": [],
   "source": []
  }
 ],
 "metadata": {
  "kernelspec": {
   "display_name": ".venv",
   "language": "python",
   "name": "python3"
  },
  "language_info": {
   "codemirror_mode": {
    "name": "ipython",
    "version": 3
   },
   "file_extension": ".py",
   "mimetype": "text/x-python",
   "name": "python",
   "nbconvert_exporter": "python",
   "pygments_lexer": "ipython3",
   "version": "3.8.10"
  }
 },
 "nbformat": 4,
 "nbformat_minor": 2
}
